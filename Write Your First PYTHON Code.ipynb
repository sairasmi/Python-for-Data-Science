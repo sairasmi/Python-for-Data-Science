{
 "cells": [
  {
   "cell_type": "markdown",
   "id": "06bdb0c2-82b9-4673-8bbf-7d63785f3ec4",
   "metadata": {},
   "source": [
    "# Writing Your First Python Code\n",
    "\n",
    "## Objectives\n",
    "\n",
    " After completing this lab you will be able to:\n",
    "\n",
    "* Write basic code in Python\n",
    "* Work with various types of data in Python\n",
    "* Convert the data from one type to another\n",
    "* Use expressions and variables to perform operations */\n",
    "  "
   ]
  },
  {
   "cell_type": "markdown",
   "id": "1b4adc3d-d890-47b1-85c4-c294573a70e0",
   "metadata": {},
   "source": [
    "<h2>Table of Contents</h2>\n",
    "<div class=\"alert alert-block alert-info\" style=\"margin-top: 20px\">\n",
    "    <ul>\n",
    "        <li>\n",
    "            <a href=\"#hello\">Say \"Hello\" to the world in Python</a>\n",
    "            <ul>\n",
    "                <li><a href=\"version\">What version of Python are we using?</a></li>\n",
    "                <li><a href=\"comments\">Writing comments in Python</a></li>\n",
    "                <li><a href=\"errors\">Errors in Python</a></li>\n",
    "                <li><a href=\"python_error\">Does Python know about your error before it runs your code?</a></li>\n",
    "                <li><a href=\"exercise\">Exercise: Your First Program</a></li>\n",
    "            </ul>\n",
    "        </li>\n",
    "        <li>\n",
    "            <a href=\"#types_objects\">Types of objects in Python</a>\n",
    "            <ul>\n",
    "                <li><a href=\"int\">Integers</a></li>\n",
    "                <li><a href=\"float\">Floats</a></li>\n",
    "                <li><a href=\"convert\">Converting from one object type to a different object type</a></li>\n",
    "                <li><a href=\"bool\">Boolean data type</a></li>\n",
    "                <li><a href=\"exer_type\">Exercise: Types</a></li>\n",
    "            </ul>\n",
    "        </li>\n",
    "        <li>\n",
    "            <a href=\"#expressions\">Expressions and Variables</a>\n",
    "            <ul>\n",
    "                <li><a href=\"exp\">Expressions</a></li>\n",
    "                <li><a href=\"exer_exp\">Exercise: Expressions</a></li>\n",
    "                <li><a href=\"var\">Variables</a></li>\n",
    "                <li><a href=\"exer_exp_var\">Exercise: Expression and Variables in Python</a></li>\n",
    "            </ul>\n",
    "        </li>\n",
    "    </ul>\n",
    "    <p>\n",
    "        Estimated time needed: <strong>25 min</strong>\n",
    "    </p>\n",
    "</div>\n",
    "\n",
    "<hr>\n"
   ]
  },
  {
   "cell_type": "markdown",
   "id": "0993dc50-03bf-4f20-9857-3fea854cde1c",
   "metadata": {},
   "source": [
    "<h2 id=\"hello\">Say \"Hello\" to the world in Python</h2>\n"
   ]
  },
  {
   "cell_type": "markdown",
   "id": "751bb60e-acf5-4085-b72b-20356f61e34c",
   "metadata": {},
   "source": [
    "When learning a new programming language, it is customary to start with an \"hello world\" example. As simple as it is, this one line of code will ensure that we know how to print a string in output and how to execute code within cells in a notebook.\n"
   ]
  },
  {
   "cell_type": "code",
   "execution_count": 1,
   "id": "0c8c9e3f-5aa3-4554-8990-c7886dc77a05",
   "metadata": {},
   "outputs": [
    {
     "name": "stdout",
     "output_type": "stream",
     "text": [
      "Hello, Python!\n"
     ]
    }
   ],
   "source": [
    "# Try your first Python output\n",
    "\n",
    "print('Hello, Python!')"
   ]
  },
  {
   "cell_type": "code",
   "execution_count": null,
   "id": "3f819085-3f1c-479b-860f-3cf7368e2c1e",
   "metadata": {},
   "outputs": [],
   "source": [
    "After executing the cell above, you should see that Python prints <code>Hello, Python!</code>. Congratulations on running your first Python code!"
   ]
  },
  {
   "cell_type": "markdown",
   "id": "70d65c05-dd11-4c26-99a2-12a6b743d937",
   "metadata": {},
   "source": [
    "<h3 id=\"version\">What version of Python are we using?</h3>\n",
    "<p>\n",
    "    There are two popular versions of the Python programming language in use today: Python 2 and Python 3. The Python community has decided to move on from Python 2 to Python 3, and many popular libraries have announced that they will no longer support Python 2.\n",
    "</p>\n",
    "<p>\n",
    "    Since Python 3 is the future, in this course we will be using it exclusively. How do we know that our notebook is executed by a Python 3 runtime? We can look in the top-right hand corner of this notebook and see \"Python 3\".\n",
    "</p>\n",
    "<p>\n",
    "    We can also ask Python directly and obtain a detailed answer. Try executing the following code:\n",
    "</p>"
   ]
  },
  {
   "cell_type": "code",
   "execution_count": 3,
   "id": "10f05d4e-fcaf-4bc9-bfa5-77a64bc8a380",
   "metadata": {
    "scrolled": true
   },
   "outputs": [
    {
     "name": "stdout",
     "output_type": "stream",
     "text": [
      "3.12.4 | packaged by Anaconda, Inc. | (main, Jun 18 2024, 15:03:56) [MSC v.1929 64 bit (AMD64)]\n"
     ]
    }
   ],
   "source": [
    "import sys\n",
    "print(sys.version)"
   ]
  },
  {
   "cell_type": "markdown",
   "id": "7f7b49ff-d9f0-4dc2-a234-55f7585c8dfd",
   "metadata": {},
   "source": [
    "<h3 id=\"comments\">Writing comments in Python</h3>"
   ]
  },
  {
   "cell_type": "markdown",
   "id": "abf15258-e72c-42f7-a95b-b36011008f10",
   "metadata": {},
   "source": [
    "<p>\n",
    "    In addition to writing code, note that it's always a good idea to add comments to your code. It will help others understand what you were trying to accomplish (the reason why you wrote a given snippet of code). Not only does this help <strong>other people</strong> understand your code, it can also serve as a reminder <strong>to you</strong> when you come back to it weeks or months later.</p>\n",
    "\n",
    "<p>\n",
    "    To write comments in Python, use the number symbol <code>#</code> before writing your comment. When you run your code, Python will ignore everything past the <code>#</code> on a given line.\n",
    "</p>\n"
   ]
  },
  {
   "cell_type": "code",
   "execution_count": 5,
   "id": "b2b5adda-1383-4a88-a2f8-9e978dcdc655",
   "metadata": {},
   "outputs": [
    {
     "name": "stdout",
     "output_type": "stream",
     "text": [
      "Hello, Python!\n"
     ]
    }
   ],
   "source": [
    "# Practice on writing comments\n",
    "\n",
    "print('Hello, Python!') # This line prints a string\n",
    "# print('Hi')"
   ]
  },
  {
   "cell_type": "markdown",
   "id": "f60ededd-a211-4486-981a-ebb33bacc105",
   "metadata": {},
   "source": [
    "After executing the cell above, you should notice that This line prints a string did not appear in the output, because it was a comment (and thus ignored by Python).\n",
    "\n",
    "The second line was also not executed because print('Hi') was preceded by the number sign (#) as well! Since this isn't an explanatory comment from the programmer, but an actual line of code, we might say that the programmer commented out that second line of code."
   ]
  },
  {
   "cell_type": "markdown",
   "id": "7e675ade-4335-4ca5-8153-b3b049e2c08b",
   "metadata": {},
   "source": [
    "<h3 id=\"errors\">Errors in Python</h3>\n"
   ]
  },
  {
   "cell_type": "markdown",
   "id": "fbfb425b-7dc9-4bda-91fd-57ad26184257",
   "metadata": {},
   "source": [
    "<p>Everyone makes mistakes. For many types of mistakes, Python will tell you that you have made a mistake by giving you an error message. It is important to read error messages carefully to really understand where you made a mistake and how you may go about correcting it.</p>\n",
    "<p>For example, if you spell <code>print</code> as <code>frint</code>, Python will display an error message. Give it a try:</p>"
   ]
  },
  {
   "cell_type": "code",
   "execution_count": null,
   "id": "863ade74-85c9-4273-87d4-dcb7bd444319",
   "metadata": {},
   "outputs": [],
   "source": [
    "# Print string as error message\n",
    "\n",
    "frint(\"Hello, Python!\")"
   ]
  },
  {
   "cell_type": "markdown",
   "id": "a18b1969-694d-4906-bc7d-9c1f2f4e1ab1",
   "metadata": {},
   "source": [
    "<p>The error message tells you: \n",
    "<ol>\n",
    "    <li>where the error occurred (more useful in large notebook cells or scripts), and</li> \n",
    "    <li>what kind of error it was (NameError)</li> \n",
    "</ol>\n",
    "<p>Here, Python attempted to run the function <code>frint</code>, but could not determine what <code>frint</code> is since it's not a built-in function and it has not been previously defined by us either.</p>\n"
   ]
  },
  {
   "cell_type": "code",
   "execution_count": null,
   "id": "b6ef1984-304f-4e7e-90aa-7b9b6807f42c",
   "metadata": {},
   "outputs": [],
   "source": [
    "# Try to see built-in error message\n",
    "\n",
    "print(\"Hello, Python!)"
   ]
  },
  {
   "cell_type": "markdown",
   "id": "1339571f-0780-448e-a07a-662b1c3cbeb9",
   "metadata": {},
   "source": [
    "<h3 id=\"python_error\">Does Python know about your error before it runs your code?</h3>\n"
   ]
  },
  {
   "cell_type": "markdown",
   "id": "062291ab-8bcf-4405-8a5a-fca76ac8e120",
   "metadata": {},
   "source": [
    "Python is what is called an <em>interpreted language</em>. Compiled languages examine your entire program at compile time, and are able to warn you about a whole class of errors prior to execution. In contrast, Python interprets your script line by line as it executes it. Python will stop executing the entire program when it encounters an error (unless the error is expected and handled by the programmer, a more advanced subject that we'll cover later on in this course)."
   ]
  },
  {
   "cell_type": "code",
   "execution_count": null,
   "id": "731591d5-721d-4827-bf6a-1c7cb39e8c71",
   "metadata": {},
   "outputs": [],
   "source": [
    "# Print string and error to see the running order\n",
    "\n",
    "print(\"This will be printed\")\n",
    "frint(\"This will cause an error\")\n",
    "print(\"This will NOT be printed\")"
   ]
  },
  {
   "cell_type": "markdown",
   "id": "3684eb90-ad95-471d-af79-ab42807f2374",
   "metadata": {},
   "source": [
    "Exercise: Your First Program\n",
    "Generations of programmers have started their coding careers by simply printing \"Hello, world!\". You will be following in their footsteps.\n",
    "\n",
    "In the code cell below, use the print() function to print out the phrase: Hello, world!\n",
    "Now, let's enhance your code with a comment. In the code cell below, print out the phrase: Hello, world! and comment it with the phrase Print the traditional hello world all in one line of code."
   ]
  },
  {
   "cell_type": "markdown",
   "id": "484ac849-c5d7-4b48-9d06-c2eed4716ea2",
   "metadata": {},
   "source": [
    "Types of objects in Python\n",
    "Python is an object-oriented language. There are many different types of objects in Python. Let's start with the most common object types: strings, integers and floats. Anytime you write words (text) in Python, you're using character strings (strings for short). The most common numbers, on the other hand, are integers (e.g. -1, 0, 100) and floats, which represent real numbers (e.g. 3.14, -42.0).\n",
    "\n"
   ]
  },
  {
   "cell_type": "markdown",
   "id": "a932a5e9-d70a-4828-ab69-c0e736c4e01e",
   "metadata": {},
   "source": [
    "<p>You can get Python to tell you the type of an expression by using the built-in <code>type()</code> function. You'll notice that Python refers to integers as <code>int</code>, floats as <code>float</code>, and character strings as <code>str</code>.</p>"
   ]
  },
  {
   "cell_type": "markdown",
   "id": "aeffcaa8-1564-4520-b5bc-53823718ccd5",
   "metadata": {},
   "source": [
    "<p>You can get Python to tell you the type of an expression by using the built-in <code>type()</code> function. You'll notice that Python refers to integers as <code>int</code>, floats as <code>float</code>, and character strings as <code>str</code>.</p>"
   ]
  },
  {
   "cell_type": "code",
   "execution_count": 9,
   "id": "eaa50299-d768-4ac8-8a5a-aa45b730f57c",
   "metadata": {},
   "outputs": [
    {
     "data": {
      "text/plain": [
       "float"
      ]
     },
     "execution_count": 9,
     "metadata": {},
     "output_type": "execute_result"
    }
   ],
   "source": [
    "# Print the type of 1.0\n",
    "\n",
    "type(1.0) # Notice that 1 is an int, and 1.0 is a float"
   ]
  },
  {
   "cell_type": "code",
   "execution_count": 11,
   "id": "46c9113a-79e2-431c-b6f8-940259e1df5a",
   "metadata": {},
   "outputs": [
    {
     "data": {
      "text/plain": [
       "float"
      ]
     },
     "execution_count": 11,
     "metadata": {},
     "output_type": "execute_result"
    }
   ],
   "source": [
    "# Print the type of 0.5\n",
    "\n",
    "type(0.5)"
   ]
  },
  {
   "cell_type": "markdown",
   "id": "8aa997f1-1bfa-4c54-8c87-42565f7cc1d2",
   "metadata": {},
   "source": [
    "<h3 id=\"convert\">Converting from one object type to a different object type</h3>"
   ]
  },
  {
   "cell_type": "markdown",
   "id": "a510d614-bacd-417e-9c55-77884ee5b8ae",
   "metadata": {},
   "source": [
    "<p>You can change the type of the object in Python; this is called typecasting. For example, you can convert an <i>integer</i> into a <i>float</i> (e.g. 2 to 2.0).</p>\n",
    "<p>Let's try it:</p>\n"
   ]
  },
  {
   "cell_type": "markdown",
   "id": "059d94e3-b124-4696-8df9-3e2ceb178988",
   "metadata": {},
   "source": [
    "<h4>Converting integers to floats</h4>\n",
    "<p>Let's cast integer 2 to float:</p>"
   ]
  },
  {
   "cell_type": "code",
   "execution_count": 13,
   "id": "96b09e1a-8b6f-4072-b4fe-76ce69986520",
   "metadata": {},
   "outputs": [
    {
     "data": {
      "text/plain": [
       "float"
      ]
     },
     "execution_count": 13,
     "metadata": {},
     "output_type": "execute_result"
    }
   ],
   "source": [
    "# Convert integer 2 to a float and check its type\n",
    "\n",
    "type(float(2))"
   ]
  },
  {
   "cell_type": "markdown",
   "id": "e78ae108-cebf-415d-9453-b182fd202d8a",
   "metadata": {},
   "source": [
    "<p>When we convert an integer into a float, we don't really change the value (i.e., the significand) of the number. However, if we cast a float into an integer, we could potentially lose some information. For example, if we cast the float 1.1 to integer we will get 1 and lose the decimal information (i.e., 0.1):</p>\n"
   ]
  },
  {
   "cell_type": "code",
   "execution_count": 15,
   "id": "ac68e972-d182-457e-aeaa-e73d79685a7e",
   "metadata": {},
   "outputs": [
    {
     "data": {
      "text/plain": [
       "1"
      ]
     },
     "execution_count": 15,
     "metadata": {},
     "output_type": "execute_result"
    }
   ],
   "source": [
    "# Casting 1.1 to integer will result in loss of information\n",
    "\n",
    "int(1.1)"
   ]
  },
  {
   "cell_type": "markdown",
   "id": "2e893829-7ba0-4950-b798-5f2848c2732b",
   "metadata": {},
   "source": [
    "<h4>Converting from strings to integers or floats</h4>\n"
   ]
  },
  {
   "cell_type": "markdown",
   "id": "5c34a418-05da-45d1-af6c-72c5e4de9a51",
   "metadata": {},
   "source": [
    "<p>Sometimes, we can have a string that contains a number within it. If this is the case, we can cast that string that represents a number into an integer using <code>int()</code>:</p>"
   ]
  },
  {
   "cell_type": "code",
   "execution_count": 17,
   "id": "34930ee7-0e84-4695-98f6-5c3560bf3811",
   "metadata": {},
   "outputs": [
    {
     "data": {
      "text/plain": [
       "1.2"
      ]
     },
     "execution_count": 17,
     "metadata": {},
     "output_type": "execute_result"
    }
   ],
   "source": [
    "# Convert the string \"1.2\" into a float\n",
    "\n",
    "float('1.2')"
   ]
  },
  {
   "cell_type": "markdown",
   "id": "b7c0b50e-6789-4376-8ff6-62345905160d",
   "metadata": {},
   "source": [
    "<h4>Converting numbers to strings</h4>\n"
   ]
  },
  {
   "cell_type": "code",
   "execution_count": null,
   "id": "039297df-24da-49a4-ba27-c774457f2441",
   "metadata": {},
   "outputs": [],
   "source": []
  },
  {
   "cell_type": "code",
   "execution_count": 19,
   "id": "eb7370b1-b72a-42db-a19e-0f3d41d764f4",
   "metadata": {},
   "outputs": [
    {
     "data": {
      "text/plain": [
       "'1'"
      ]
     },
     "execution_count": 19,
     "metadata": {},
     "output_type": "execute_result"
    }
   ],
   "source": [
    "# Convert an integer to a string\n",
    "\n",
    "str(1)\n"
   ]
  },
  {
   "cell_type": "code",
   "execution_count": 21,
   "id": "872e284d-447a-4327-aa37-a9c9b7424a79",
   "metadata": {},
   "outputs": [
    {
     "data": {
      "text/plain": [
       "'1.2'"
      ]
     },
     "execution_count": 21,
     "metadata": {},
     "output_type": "execute_result"
    }
   ],
   "source": [
    "# Convert a float to a string\n",
    "\n",
    "str(1.2)"
   ]
  },
  {
   "cell_type": "markdown",
   "id": "669771e2-2a22-4a47-b26f-c9555ec26ec9",
   "metadata": {},
   "source": [
    "<h3 id=\"bool\">Boolean data type</h3>"
   ]
  },
  {
   "cell_type": "markdown",
   "id": "2332d7b6-9678-4994-9f59-21535c011785",
   "metadata": {},
   "source": [
    "<p><i>Boolean</i> is another important type in Python. An object of type <i>Boolean</i> can take on one of two values: <code>True</code> or <code>False</code>:</p>\n"
   ]
  },
  {
   "cell_type": "code",
   "execution_count": 23,
   "id": "d135270b-36cf-48fe-b9d1-6ea401fe1717",
   "metadata": {},
   "outputs": [
    {
     "data": {
      "text/plain": [
       "True"
      ]
     },
     "execution_count": 23,
     "metadata": {},
     "output_type": "execute_result"
    }
   ],
   "source": [
    "# Value true\n",
    "\n",
    "True"
   ]
  },
  {
   "cell_type": "markdown",
   "id": "6b903cde-472f-467a-8e4b-0cd01f1e0b2b",
   "metadata": {},
   "source": [
    "<p>Notice that the value <code>True</code> has an uppercase \"T\". The same is true for <code>False</code> (i.e. you must use the uppercase \"F\").</p>\n"
   ]
  },
  {
   "cell_type": "markdown",
   "id": "fbd844fa-b7dc-401e-ba60-953fdb13c120",
   "metadata": {},
   "source": [
    "# Value false\n",
    "\n",
    "False"
   ]
  },
  {
   "cell_type": "markdown",
   "id": "b433733f-652a-47b2-85ba-d7c62f6716c6",
   "metadata": {},
   "source": [
    "<h3 id=\"exer_type\">Exercise: Types</h3>"
   ]
  },
  {
   "cell_type": "markdown",
   "id": "84510873-f3c4-4a3d-8108-a1f6de195343",
   "metadata": {},
   "source": [
    "<p>What is the data type of the result of: <code>6 / 2</code>?</p>"
   ]
  },
  {
   "cell_type": "code",
   "execution_count": 25,
   "id": "4f6e47b6-fd95-4391-a22e-d144f75e7d91",
   "metadata": {},
   "outputs": [
    {
     "data": {
      "text/plain": [
       "float"
      ]
     },
     "execution_count": 25,
     "metadata": {},
     "output_type": "execute_result"
    }
   ],
   "source": [
    "# Write your code below. Don't forget to press Shift+Enter to execute the cell\n",
    "type(6/2)"
   ]
  },
  {
   "cell_type": "markdown",
   "id": "cbbc4b9a-68c8-4db4-aaf8-3ace262587c1",
   "metadata": {},
   "source": [
    "What is the type of the result of: 6 // 2? (Note the double slash //.)"
   ]
  },
  {
   "cell_type": "markdown",
   "id": "2666c9ef-0a05-4f09-9675-78e79a5252f2",
   "metadata": {},
   "source": [
    "<h2 id=\"expressions\">Expression and Variables</h2>\n"
   ]
  },
  {
   "cell_type": "markdown",
   "id": "a5327c04-74a7-4566-b118-13228c1a9cae",
   "metadata": {},
   "source": [
    "<h3 id=\"exp\">Expressions</h3>\n"
   ]
  },
  {
   "cell_type": "markdown",
   "id": "5eaa58a3-c0c7-4c84-a31a-f242d8586fd7",
   "metadata": {},
   "source": [
    "<p>Expressions in Python can include operations among compatible types (e.g., integers and floats). For example, basic arithmetic operations like adding multiple numbers:</p>\n"
   ]
  },
  {
   "cell_type": "code",
   "execution_count": 66,
   "id": "5614a4fd-1a38-4f79-94c9-f944f543fe92",
   "metadata": {},
   "outputs": [
    {
     "data": {
      "text/plain": [
       "160"
      ]
     },
     "execution_count": 66,
     "metadata": {},
     "output_type": "execute_result"
    }
   ],
   "source": [
    "# Addition operation expression\n",
    "\n",
    "43 + 60 + 16 + 41"
   ]
  },
  {
   "cell_type": "markdown",
   "id": "3cf0450e-352f-4618-a0d7-41d75aa9139e",
   "metadata": {},
   "source": [
    "<p>We can perform subtraction operations using the minus operator. In this case the result is a negative number:</p>\n"
   ]
  },
  {
   "cell_type": "code",
   "execution_count": 71,
   "id": "9e106097-524d-4fe5-bbab-f30f228d9151",
   "metadata": {},
   "outputs": [
    {
     "data": {
      "text/plain": [
       "-10"
      ]
     },
     "execution_count": 71,
     "metadata": {},
     "output_type": "execute_result"
    }
   ],
   "source": [
    "# Subtraction operation expression\n",
    "\n",
    "50 - 60"
   ]
  },
  {
   "cell_type": "markdown",
   "id": "4796be37-05ff-49c7-a22b-bbd911a9f4f5",
   "metadata": {},
   "source": [
    "<p>We can do multiplication using an asterisk:</p>"
   ]
  },
  {
   "cell_type": "code",
   "execution_count": 74,
   "id": "9905b60a-4cd9-49a2-9821-dfcc4e9c4ab1",
   "metadata": {},
   "outputs": [
    {
     "data": {
      "text/plain": [
       "25"
      ]
     },
     "execution_count": 74,
     "metadata": {},
     "output_type": "execute_result"
    }
   ],
   "source": [
    "# Multiplication operation expression\n",
    "\n",
    "5 * 5"
   ]
  },
  {
   "cell_type": "markdown",
   "id": "c6c7db60-4ea4-4f3c-8f42-3545600b47c7",
   "metadata": {},
   "source": [
    "<p>We can also perform division with the forward slash:\n"
   ]
  },
  {
   "cell_type": "code",
   "execution_count": 77,
   "id": "1700eca4-5204-43d4-ab4a-f093806ca3e3",
   "metadata": {},
   "outputs": [
    {
     "data": {
      "text/plain": [
       "5.0"
      ]
     },
     "execution_count": 77,
     "metadata": {},
     "output_type": "execute_result"
    }
   ],
   "source": [
    "# Division operation expression\n",
    "\n",
    "25 / 5"
   ]
  },
  {
   "cell_type": "code",
   "execution_count": 79,
   "id": "3281e946-70ba-4060-9b4c-bb23971b9ef2",
   "metadata": {},
   "outputs": [
    {
     "data": {
      "text/plain": [
       "4.166666666666667"
      ]
     },
     "execution_count": 79,
     "metadata": {},
     "output_type": "execute_result"
    }
   ],
   "source": [
    "# Division operation expression\n",
    "\n",
    "25 / 6"
   ]
  },
  {
   "cell_type": "code",
   "execution_count": 81,
   "id": "abf95cad-df2a-4d15-9da5-ee1c6b5f1867",
   "metadata": {},
   "outputs": [
    {
     "data": {
      "text/plain": [
       "5"
      ]
     },
     "execution_count": 81,
     "metadata": {},
     "output_type": "execute_result"
    }
   ],
   "source": [
    "# Integer division operation expression\n",
    "\n",
    "25 // 5"
   ]
  },
  {
   "cell_type": "code",
   "execution_count": 83,
   "id": "3a714292-8813-4477-af80-15414acb05db",
   "metadata": {},
   "outputs": [
    {
     "data": {
      "text/plain": [
       "4"
      ]
     },
     "execution_count": 83,
     "metadata": {},
     "output_type": "execute_result"
    }
   ],
   "source": [
    "# Integer division operation expression\n",
    "\n",
    "25 // 6"
   ]
  },
  {
   "cell_type": "markdown",
   "id": "4dc70091-b638-41ff-8fb2-787c316c156b",
   "metadata": {},
   "source": [
    "Let's write an expression that calculates how many hours there are in 160 minutes:"
   ]
  },
  {
   "cell_type": "code",
   "execution_count": 86,
   "id": "d9cc23ae-8167-44c0-a2d9-53f22d048cb3",
   "metadata": {},
   "outputs": [
    {
     "name": "stdout",
     "output_type": "stream",
     "text": [
      "2\n"
     ]
    }
   ],
   "source": [
    "# Write your code below. Don't forget to press Shift+Enter to execute the cell\n",
    "# 60 Minute= 1 hour\n",
    "print(160//60)"
   ]
  },
  {
   "cell_type": "markdown",
   "id": "7d999b5a-228e-4ce4-9dc6-cfc47a55ebff",
   "metadata": {},
   "source": [
    "Python follows well accepted mathematical conventions when evaluating mathematical expressions. In the following example, Python adds 30 to the result of the multiplication (i.e., 120)."
   ]
  },
  {
   "cell_type": "code",
   "execution_count": 89,
   "id": "c9d24b05-144d-4557-a826-14c266497aa3",
   "metadata": {},
   "outputs": [
    {
     "data": {
      "text/plain": [
       "150"
      ]
     },
     "execution_count": 89,
     "metadata": {},
     "output_type": "execute_result"
    }
   ],
   "source": [
    "# Mathematical expression\n",
    "\n",
    "30 + 2 * 60"
   ]
  },
  {
   "cell_type": "markdown",
   "id": "daf2bc79-ed53-427d-854e-1cd486ff1517",
   "metadata": {},
   "source": [
    "And just like mathematics, expressions enclosed in parentheses have priority. So the following multiplies 32 by 60."
   ]
  },
  {
   "cell_type": "code",
   "execution_count": 93,
   "id": "a9d30eb3-644d-4200-90e7-96550d451d1f",
   "metadata": {},
   "outputs": [
    {
     "data": {
      "text/plain": [
       "1920"
      ]
     },
     "execution_count": 93,
     "metadata": {},
     "output_type": "execute_result"
    }
   ],
   "source": [
    "# Mathematical expression\n",
    "\n",
    "(30 + 2) * 60"
   ]
  },
  {
   "cell_type": "markdown",
   "id": "0e5f232b-54b1-4da1-a173-dd2f8b3acc4b",
   "metadata": {},
   "source": [
    "Variables\n",
    "Just like with most programming languages, we can store values in variables, so we can use them later on. For example:"
   ]
  },
  {
   "cell_type": "code",
   "execution_count": 99,
   "id": "0667ffa0-20ed-41d1-a673-675fca437dc2",
   "metadata": {},
   "outputs": [],
   "source": [
    "# Store value into a variable\n",
    "\n",
    "x = 43 + 60 + 16 + 41"
   ]
  },
  {
   "cell_type": "markdown",
   "id": "9fc63090-0333-45e3-85d8-9a58c7db6e92",
   "metadata": {},
   "source": [
    "To see the value of x in a Notebook, we can simply place it on the last line of a cell:"
   ]
  },
  {
   "cell_type": "code",
   "execution_count": 101,
   "id": "f593b850-a1a0-420a-bcd0-e39a9d1b2073",
   "metadata": {},
   "outputs": [
    {
     "data": {
      "text/plain": [
       "160"
      ]
     },
     "execution_count": 101,
     "metadata": {},
     "output_type": "execute_result"
    }
   ],
   "source": [
    "# Print out the value in variable\n",
    "\n",
    "x"
   ]
  },
  {
   "cell_type": "markdown",
   "id": "151441b9-3307-49c6-999e-8ce2ab7397bd",
   "metadata": {},
   "source": [
    "We can also perform operations on x and save the result to a new variable:"
   ]
  },
  {
   "cell_type": "code",
   "execution_count": 104,
   "id": "e53da9ba-ec29-4c6f-9496-b965f824bfbb",
   "metadata": {},
   "outputs": [
    {
     "data": {
      "text/plain": [
       "2.6666666666666665"
      ]
     },
     "execution_count": 104,
     "metadata": {},
     "output_type": "execute_result"
    }
   ],
   "source": [
    "# Use another variable to store the result of the operation between variable and value\n",
    "\n",
    "y = x / 60\n",
    "y"
   ]
  },
  {
   "cell_type": "markdown",
   "id": "514a0c0d-81c6-4a46-8c1f-6238f582cb0c",
   "metadata": {},
   "source": [
    "It's a good practice to use meaningful variable names, so you and others can read the code and understand it more easily:"
   ]
  },
  {
   "cell_type": "code",
   "execution_count": 107,
   "id": "035eea57-540a-419a-95ea-c07457bd8bc2",
   "metadata": {},
   "outputs": [
    {
     "data": {
      "text/plain": [
       "142"
      ]
     },
     "execution_count": 107,
     "metadata": {},
     "output_type": "execute_result"
    }
   ],
   "source": [
    "# Name the variables meaningfully\n",
    "\n",
    "total_min = 43 + 42 + 57 # Total length of albums in minutes\n",
    "total_min"
   ]
  },
  {
   "cell_type": "code",
   "execution_count": 109,
   "id": "3ff9b1f6-9b22-455b-badd-53a712ca8f5a",
   "metadata": {},
   "outputs": [
    {
     "data": {
      "text/plain": [
       "2.3666666666666667"
      ]
     },
     "execution_count": 109,
     "metadata": {},
     "output_type": "execute_result"
    }
   ],
   "source": [
    "# Name the variables meaningfully\n",
    "\n",
    "total_hours = total_min / 60 # Total length of albums in hours \n",
    "total_hours"
   ]
  },
  {
   "cell_type": "markdown",
   "id": "fd5ade6d-8074-45df-aee4-737c99e3fb23",
   "metadata": {},
   "source": [
    "In the cells above we added the length of three albums in minutes and stored it in total_min. We then divided it by 60 to calculate total length total_hours in hours. You can also do it all at once in a single expression, as long as you use parenthesis to add the albums length before you divide, as shown below."
   ]
  },
  {
   "cell_type": "markdown",
   "id": "69fb333d-61e4-480d-8ee7-ad69142ccd6d",
   "metadata": {},
   "source": [
    "If you'd rather have total hours as an integer, you can of course replace the floating point division with integer division (i.e., //)."
   ]
  },
  {
   "cell_type": "markdown",
   "id": "804629e5-7027-47e2-9329-bd9fe752006c",
   "metadata": {},
   "source": [
    "Exercise: Expression and Variables in Python"
   ]
  },
  {
   "cell_type": "markdown",
   "id": "58271dd0-4279-4a91-b38a-cafd1de9158e",
   "metadata": {},
   "source": [
    "What is the value of x where x = 3 + 2 * 2"
   ]
  },
  {
   "cell_type": "code",
   "execution_count": 115,
   "id": "2a7ed9a3-c5dd-4d84-a2fe-a7d8a7fe509e",
   "metadata": {},
   "outputs": [
    {
     "name": "stdout",
     "output_type": "stream",
     "text": [
      "7\n"
     ]
    }
   ],
   "source": [
    "x=3+2*2\n",
    "print(x)"
   ]
  },
  {
   "cell_type": "markdown",
   "id": "8bc0137b-2943-4b1a-abc7-a54c98d33189",
   "metadata": {},
   "source": [
    "What is the value of y where y = (3 + 2) * 2?"
   ]
  },
  {
   "cell_type": "code",
   "execution_count": 120,
   "id": "6f349804-2d8d-4465-882c-b433c036ac95",
   "metadata": {},
   "outputs": [
    {
     "name": "stdout",
     "output_type": "stream",
     "text": [
      "10\n"
     ]
    }
   ],
   "source": [
    "# Write your code below. Don't forget to press Shift+Enter to execute the cell\n",
    "y=(3+2)*2\n",
    "print(y)"
   ]
  }
 ],
 "metadata": {
  "kernelspec": {
   "display_name": "Python 3 (ipykernel)",
   "language": "python",
   "name": "python3"
  },
  "language_info": {
   "codemirror_mode": {
    "name": "ipython",
    "version": 3
   },
   "file_extension": ".py",
   "mimetype": "text/x-python",
   "name": "python",
   "nbconvert_exporter": "python",
   "pygments_lexer": "ipython3",
   "version": "3.12.4"
  }
 },
 "nbformat": 4,
 "nbformat_minor": 5
}
